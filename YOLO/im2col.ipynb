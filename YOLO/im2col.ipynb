{
 "cells": [
  {
   "cell_type": "code",
   "execution_count": 1,
   "metadata": {},
   "outputs": [],
   "source": [
    "import tvm\n",
    "from tvm import relay, relax\n",
    "import numpy as np\n",
    "from tvm.script import tir as T\n",
    "from tvm.script import relax as R\n",
    "import torch"
   ]
  },
  {
   "cell_type": "code",
   "execution_count": 2,
   "metadata": {},
   "outputs": [
    {
     "data": {
      "text/html": [
       "<div class=\"highlight\" style=\"background: \"><pre style=\"line-height: 125%;\"><span></span><span style=\"color: #007979; font-style: italic\"># from tvm.script import ir as I</span>\n",
       "<span style=\"color: #007979; font-style: italic\"># from tvm.script import tir as T</span>\n",
       "<span style=\"color: #007979; font-style: italic\"># from tvm.script import relax as R</span>\n",
       "\n",
       "<span style=\"color: #A2F\">@I</span><span style=\"color: #A2F; font-weight: bold\">.</span>ir_module\n",
       "<span style=\"color: #008000; font-weight: bold\">class</span> <span style=\"color: #00F; font-weight: bold\">Module</span>:\n",
       "    <span style=\"color: #A2F\">@T</span><span style=\"color: #A2F; font-weight: bold\">.</span>prim_func\n",
       "    <span style=\"color: #008000; font-weight: bold\">def</span> <span style=\"color: #00F\">im2col</span>(X: T<span style=\"color: #A2F; font-weight: bold\">.</span>Buffer((<span style=\"color: #008000\">1</span>, <span style=\"color: #008000\">1024</span>, <span style=\"color: #008000\">15</span>, <span style=\"color: #008000\">15</span>), <span style=\"color: #BA2121\">&quot;float32&quot;</span>), Y: T<span style=\"color: #A2F; font-weight: bold\">.</span>Buffer((<span style=\"color: #008000\">9216</span>, <span style=\"color: #008000\">169</span>), <span style=\"color: #BA2121\">&quot;float32&quot;</span>)):\n",
       "        <span style=\"color: #007979; font-style: italic\"># with T.block(&quot;root&quot;):</span>\n",
       "        <span style=\"color: #008000; font-weight: bold\">for</span> i, j <span style=\"color: #008000; font-weight: bold\">in</span> T<span style=\"color: #A2F; font-weight: bold\">.</span>grid(<span style=\"color: #008000\">9216</span>, <span style=\"color: #008000\">169</span>):\n",
       "            <span style=\"color: #008000; font-weight: bold\">with</span> T<span style=\"color: #A2F; font-weight: bold\">.</span>block(<span style=\"color: #BA2121\">&quot;Y&quot;</span>):\n",
       "                vi, vj <span style=\"color: #A2F; font-weight: bold\">=</span> T<span style=\"color: #A2F; font-weight: bold\">.</span>axis<span style=\"color: #A2F; font-weight: bold\">.</span>remap(<span style=\"color: #BA2121\">&quot;SS&quot;</span>, [i, j])\n",
       "                T<span style=\"color: #A2F; font-weight: bold\">.</span>reads(X[<span style=\"color: #008000\">0</span>, vi <span style=\"color: #A2F; font-weight: bold\">//</span> <span style=\"color: #008000\">9</span>, vj <span style=\"color: #A2F; font-weight: bold\">//</span> <span style=\"color: #008000\">13</span> <span style=\"color: #A2F; font-weight: bold\">+</span> vi <span style=\"color: #A2F; font-weight: bold\">%</span> <span style=\"color: #008000\">9</span> <span style=\"color: #A2F; font-weight: bold\">//</span> <span style=\"color: #008000\">3</span>, vj <span style=\"color: #A2F; font-weight: bold\">%</span> <span style=\"color: #008000\">13</span> <span style=\"color: #A2F; font-weight: bold\">+</span> vi <span style=\"color: #A2F; font-weight: bold\">%</span> <span style=\"color: #008000\">3</span>])\n",
       "                T<span style=\"color: #A2F; font-weight: bold\">.</span>writes(Y[vi, vj])\n",
       "                n: T<span style=\"color: #A2F; font-weight: bold\">.</span>int32 <span style=\"color: #A2F; font-weight: bold\">=</span> vi <span style=\"color: #A2F; font-weight: bold\">//</span> <span style=\"color: #008000\">9</span>\n",
       "                ki: T<span style=\"color: #A2F; font-weight: bold\">.</span>int32 <span style=\"color: #A2F; font-weight: bold\">=</span> vj <span style=\"color: #A2F; font-weight: bold\">//</span> <span style=\"color: #008000\">13</span>\n",
       "                kj: T<span style=\"color: #A2F; font-weight: bold\">.</span>int32 <span style=\"color: #A2F; font-weight: bold\">=</span> vj <span style=\"color: #A2F; font-weight: bold\">%</span> <span style=\"color: #008000\">13</span>\n",
       "                di: T<span style=\"color: #A2F; font-weight: bold\">.</span>int32 <span style=\"color: #A2F; font-weight: bold\">=</span> vi <span style=\"color: #A2F; font-weight: bold\">%</span> <span style=\"color: #008000\">9</span> <span style=\"color: #A2F; font-weight: bold\">//</span> <span style=\"color: #008000\">3</span>\n",
       "                dj: T<span style=\"color: #A2F; font-weight: bold\">.</span>int32 <span style=\"color: #A2F; font-weight: bold\">=</span> vi <span style=\"color: #A2F; font-weight: bold\">%</span> <span style=\"color: #008000\">3</span>\n",
       "                Y[vi, vj] <span style=\"color: #A2F; font-weight: bold\">=</span> X[<span style=\"color: #008000\">0</span>, n, ki <span style=\"color: #A2F; font-weight: bold\">+</span> di, kj <span style=\"color: #A2F; font-weight: bold\">+</span> dj]\n",
       "\n",
       "    <span style=\"color: #A2F\">@T</span><span style=\"color: #A2F; font-weight: bold\">.</span>prim_func(private<span style=\"color: #A2F; font-weight: bold\">=</span><span style=\"color: #008000; font-weight: bold\">True</span>)\n",
       "    <span style=\"color: #008000; font-weight: bold\">def</span> <span style=\"color: #00F\">matmul</span>(good_w: T<span style=\"color: #A2F; font-weight: bold\">.</span>Buffer((T<span style=\"color: #A2F; font-weight: bold\">.</span>int64(<span style=\"color: #008000\">1024</span>), T<span style=\"color: #A2F; font-weight: bold\">.</span>int64(<span style=\"color: #008000\">9216</span>)), <span style=\"color: #BA2121\">&quot;float32&quot;</span>), lv0: T<span style=\"color: #A2F; font-weight: bold\">.</span>Buffer((T<span style=\"color: #A2F; font-weight: bold\">.</span>int64(<span style=\"color: #008000\">9216</span>), T<span style=\"color: #A2F; font-weight: bold\">.</span>int64(<span style=\"color: #008000\">169</span>)), <span style=\"color: #BA2121\">&quot;float32&quot;</span>), matmul: T<span style=\"color: #A2F; font-weight: bold\">.</span>Buffer((T<span style=\"color: #A2F; font-weight: bold\">.</span>int64(<span style=\"color: #008000\">1024</span>), T<span style=\"color: #A2F; font-weight: bold\">.</span>int64(<span style=\"color: #008000\">169</span>)), <span style=\"color: #BA2121\">&quot;float32&quot;</span>)):\n",
       "        T<span style=\"color: #A2F; font-weight: bold\">.</span>func_attr({<span style=\"color: #BA2121\">&quot;tir.noalias&quot;</span>: T<span style=\"color: #A2F; font-weight: bold\">.</span>bool(<span style=\"color: #008000; font-weight: bold\">True</span>)})\n",
       "        <span style=\"color: #007979; font-style: italic\"># with T.block(&quot;root&quot;):</span>\n",
       "        <span style=\"color: #008000; font-weight: bold\">for</span> i0, i1, k <span style=\"color: #008000; font-weight: bold\">in</span> T<span style=\"color: #A2F; font-weight: bold\">.</span>grid(T<span style=\"color: #A2F; font-weight: bold\">.</span>int64(<span style=\"color: #008000\">1024</span>), T<span style=\"color: #A2F; font-weight: bold\">.</span>int64(<span style=\"color: #008000\">169</span>), T<span style=\"color: #A2F; font-weight: bold\">.</span>int64(<span style=\"color: #008000\">9216</span>)):\n",
       "            <span style=\"color: #008000; font-weight: bold\">with</span> T<span style=\"color: #A2F; font-weight: bold\">.</span>block(<span style=\"color: #BA2121\">&quot;matmul&quot;</span>):\n",
       "                v_i0, v_i1, v_k <span style=\"color: #A2F; font-weight: bold\">=</span> T<span style=\"color: #A2F; font-weight: bold\">.</span>axis<span style=\"color: #A2F; font-weight: bold\">.</span>remap(<span style=\"color: #BA2121\">&quot;SSR&quot;</span>, [i0, i1, k])\n",
       "                T<span style=\"color: #A2F; font-weight: bold\">.</span>reads(good_w[v_i0, v_k], lv0[v_k, v_i1])\n",
       "                T<span style=\"color: #A2F; font-weight: bold\">.</span>writes(matmul[v_i0, v_i1])\n",
       "                <span style=\"color: #008000; font-weight: bold\">with</span> T<span style=\"color: #A2F; font-weight: bold\">.</span>init():\n",
       "                    matmul[v_i0, v_i1] <span style=\"color: #A2F; font-weight: bold\">=</span> T<span style=\"color: #A2F; font-weight: bold\">.</span>float32(<span style=\"color: #008000\">0.0</span>)\n",
       "                matmul[v_i0, v_i1] <span style=\"color: #A2F; font-weight: bold\">=</span> matmul[v_i0, v_i1] <span style=\"color: #A2F; font-weight: bold\">+</span> good_w[v_i0, v_k] <span style=\"color: #A2F; font-weight: bold\">*</span> lv0[v_k, v_i1]\n",
       "\n",
       "    <span style=\"color: #A2F\">@T</span><span style=\"color: #A2F; font-weight: bold\">.</span>prim_func(private<span style=\"color: #A2F; font-weight: bold\">=</span><span style=\"color: #008000; font-weight: bold\">True</span>)\n",
       "    <span style=\"color: #008000; font-weight: bold\">def</span> <span style=\"color: #00F\">reshape</span>(transposed_w: T<span style=\"color: #A2F; font-weight: bold\">.</span>Buffer((T<span style=\"color: #A2F; font-weight: bold\">.</span>int64(<span style=\"color: #008000\">1024</span>), T<span style=\"color: #A2F; font-weight: bold\">.</span>int64(<span style=\"color: #008000\">3</span>), T<span style=\"color: #A2F; font-weight: bold\">.</span>int64(<span style=\"color: #008000\">3</span>), T<span style=\"color: #A2F; font-weight: bold\">.</span>int64(<span style=\"color: #008000\">1024</span>)), <span style=\"color: #BA2121\">&quot;float32&quot;</span>), T_reshape: T<span style=\"color: #A2F; font-weight: bold\">.</span>Buffer((T<span style=\"color: #A2F; font-weight: bold\">.</span>int64(<span style=\"color: #008000\">1024</span>), T<span style=\"color: #A2F; font-weight: bold\">.</span>int64(<span style=\"color: #008000\">9216</span>)), <span style=\"color: #BA2121\">&quot;float32&quot;</span>)):\n",
       "        T<span style=\"color: #A2F; font-weight: bold\">.</span>func_attr({<span style=\"color: #BA2121\">&quot;tir.noalias&quot;</span>: T<span style=\"color: #A2F; font-weight: bold\">.</span>bool(<span style=\"color: #008000; font-weight: bold\">True</span>)})\n",
       "        <span style=\"color: #007979; font-style: italic\"># with T.block(&quot;root&quot;):</span>\n",
       "        <span style=\"color: #008000; font-weight: bold\">for</span> ax0, ax1 <span style=\"color: #008000; font-weight: bold\">in</span> T<span style=\"color: #A2F; font-weight: bold\">.</span>grid(T<span style=\"color: #A2F; font-weight: bold\">.</span>int64(<span style=\"color: #008000\">1024</span>), T<span style=\"color: #A2F; font-weight: bold\">.</span>int64(<span style=\"color: #008000\">9216</span>)):\n",
       "            <span style=\"color: #008000; font-weight: bold\">with</span> T<span style=\"color: #A2F; font-weight: bold\">.</span>block(<span style=\"color: #BA2121\">&quot;T_reshape&quot;</span>):\n",
       "                v_ax0, v_ax1 <span style=\"color: #A2F; font-weight: bold\">=</span> T<span style=\"color: #A2F; font-weight: bold\">.</span>axis<span style=\"color: #A2F; font-weight: bold\">.</span>remap(<span style=\"color: #BA2121\">&quot;SS&quot;</span>, [ax0, ax1])\n",
       "                T<span style=\"color: #A2F; font-weight: bold\">.</span>reads(transposed_w[(v_ax1 <span style=\"color: #A2F; font-weight: bold\">//</span> T<span style=\"color: #A2F; font-weight: bold\">.</span>int64(<span style=\"color: #008000\">9216</span>) <span style=\"color: #A2F; font-weight: bold\">+</span> v_ax0) <span style=\"color: #A2F; font-weight: bold\">%</span> T<span style=\"color: #A2F; font-weight: bold\">.</span>int64(<span style=\"color: #008000\">1024</span>), v_ax1 <span style=\"color: #A2F; font-weight: bold\">%</span> T<span style=\"color: #A2F; font-weight: bold\">.</span>int64(<span style=\"color: #008000\">9216</span>) <span style=\"color: #A2F; font-weight: bold\">//</span> T<span style=\"color: #A2F; font-weight: bold\">.</span>int64(<span style=\"color: #008000\">3072</span>), v_ax1 <span style=\"color: #A2F; font-weight: bold\">%</span> T<span style=\"color: #A2F; font-weight: bold\">.</span>int64(<span style=\"color: #008000\">3072</span>) <span style=\"color: #A2F; font-weight: bold\">//</span> T<span style=\"color: #A2F; font-weight: bold\">.</span>int64(<span style=\"color: #008000\">1024</span>), v_ax1 <span style=\"color: #A2F; font-weight: bold\">%</span> T<span style=\"color: #A2F; font-weight: bold\">.</span>int64(<span style=\"color: #008000\">1024</span>)])\n",
       "                T<span style=\"color: #A2F; font-weight: bold\">.</span>writes(T_reshape[v_ax0, v_ax1])\n",
       "                T_reshape[v_ax0, v_ax1] <span style=\"color: #A2F; font-weight: bold\">=</span> transposed_w[(v_ax1 <span style=\"color: #A2F; font-weight: bold\">//</span> T<span style=\"color: #A2F; font-weight: bold\">.</span>int64(<span style=\"color: #008000\">9216</span>) <span style=\"color: #A2F; font-weight: bold\">+</span> v_ax0) <span style=\"color: #A2F; font-weight: bold\">%</span> T<span style=\"color: #A2F; font-weight: bold\">.</span>int64(<span style=\"color: #008000\">1024</span>), v_ax1 <span style=\"color: #A2F; font-weight: bold\">%</span> T<span style=\"color: #A2F; font-weight: bold\">.</span>int64(<span style=\"color: #008000\">9216</span>) <span style=\"color: #A2F; font-weight: bold\">//</span> T<span style=\"color: #A2F; font-weight: bold\">.</span>int64(<span style=\"color: #008000\">3072</span>), v_ax1 <span style=\"color: #A2F; font-weight: bold\">%</span> T<span style=\"color: #A2F; font-weight: bold\">.</span>int64(<span style=\"color: #008000\">3072</span>) <span style=\"color: #A2F; font-weight: bold\">//</span> T<span style=\"color: #A2F; font-weight: bold\">.</span>int64(<span style=\"color: #008000\">1024</span>), v_ax1 <span style=\"color: #A2F; font-weight: bold\">%</span> T<span style=\"color: #A2F; font-weight: bold\">.</span>int64(<span style=\"color: #008000\">1024</span>)]\n",
       "\n",
       "    <span style=\"color: #A2F\">@T</span><span style=\"color: #A2F; font-weight: bold\">.</span>prim_func(private<span style=\"color: #A2F; font-weight: bold\">=</span><span style=\"color: #008000; font-weight: bold\">True</span>)\n",
       "    <span style=\"color: #008000; font-weight: bold\">def</span> <span style=\"color: #00F\">reshape1</span>(lv1: T<span style=\"color: #A2F; font-weight: bold\">.</span>Buffer((T<span style=\"color: #A2F; font-weight: bold\">.</span>int64(<span style=\"color: #008000\">1024</span>), T<span style=\"color: #A2F; font-weight: bold\">.</span>int64(<span style=\"color: #008000\">169</span>)), <span style=\"color: #BA2121\">&quot;float32&quot;</span>), T_reshape: T<span style=\"color: #A2F; font-weight: bold\">.</span>Buffer((T<span style=\"color: #A2F; font-weight: bold\">.</span>int64(<span style=\"color: #008000\">1</span>), T<span style=\"color: #A2F; font-weight: bold\">.</span>int64(<span style=\"color: #008000\">1024</span>), T<span style=\"color: #A2F; font-weight: bold\">.</span>int64(<span style=\"color: #008000\">13</span>), T<span style=\"color: #A2F; font-weight: bold\">.</span>int64(<span style=\"color: #008000\">13</span>)), <span style=\"color: #BA2121\">&quot;float32&quot;</span>)):\n",
       "        T<span style=\"color: #A2F; font-weight: bold\">.</span>func_attr({<span style=\"color: #BA2121\">&quot;tir.noalias&quot;</span>: T<span style=\"color: #A2F; font-weight: bold\">.</span>bool(<span style=\"color: #008000; font-weight: bold\">True</span>)})\n",
       "        <span style=\"color: #007979; font-style: italic\"># with T.block(&quot;root&quot;):</span>\n",
       "        <span style=\"color: #008000; font-weight: bold\">for</span> ax0, ax1, ax2, ax3 <span style=\"color: #008000; font-weight: bold\">in</span> T<span style=\"color: #A2F; font-weight: bold\">.</span>grid(T<span style=\"color: #A2F; font-weight: bold\">.</span>int64(<span style=\"color: #008000\">1</span>), T<span style=\"color: #A2F; font-weight: bold\">.</span>int64(<span style=\"color: #008000\">1024</span>), T<span style=\"color: #A2F; font-weight: bold\">.</span>int64(<span style=\"color: #008000\">13</span>), T<span style=\"color: #A2F; font-weight: bold\">.</span>int64(<span style=\"color: #008000\">13</span>)):\n",
       "            <span style=\"color: #008000; font-weight: bold\">with</span> T<span style=\"color: #A2F; font-weight: bold\">.</span>block(<span style=\"color: #BA2121\">&quot;T_reshape&quot;</span>):\n",
       "                v_ax0, v_ax1, v_ax2, v_ax3 <span style=\"color: #A2F; font-weight: bold\">=</span> T<span style=\"color: #A2F; font-weight: bold\">.</span>axis<span style=\"color: #A2F; font-weight: bold\">.</span>remap(<span style=\"color: #BA2121\">&quot;SSSS&quot;</span>, [ax0, ax1, ax2, ax3])\n",
       "                T<span style=\"color: #A2F; font-weight: bold\">.</span>reads(lv1[((v_ax2 <span style=\"color: #A2F; font-weight: bold\">*</span> T<span style=\"color: #A2F; font-weight: bold\">.</span>int64(<span style=\"color: #008000\">13</span>) <span style=\"color: #A2F; font-weight: bold\">+</span> v_ax3) <span style=\"color: #A2F; font-weight: bold\">//</span> T<span style=\"color: #A2F; font-weight: bold\">.</span>int64(<span style=\"color: #008000\">169</span>) <span style=\"color: #A2F; font-weight: bold\">+</span> v_ax1) <span style=\"color: #A2F; font-weight: bold\">%</span> T<span style=\"color: #A2F; font-weight: bold\">.</span>int64(<span style=\"color: #008000\">1024</span>), (v_ax2 <span style=\"color: #A2F; font-weight: bold\">*</span> T<span style=\"color: #A2F; font-weight: bold\">.</span>int64(<span style=\"color: #008000\">13</span>) <span style=\"color: #A2F; font-weight: bold\">+</span> v_ax3) <span style=\"color: #A2F; font-weight: bold\">%</span> T<span style=\"color: #A2F; font-weight: bold\">.</span>int64(<span style=\"color: #008000\">169</span>)])\n",
       "                T<span style=\"color: #A2F; font-weight: bold\">.</span>writes(T_reshape[v_ax0, v_ax1, v_ax2, v_ax3])\n",
       "                T_reshape[v_ax0, v_ax1, v_ax2, v_ax3] <span style=\"color: #A2F; font-weight: bold\">=</span> lv1[((v_ax2 <span style=\"color: #A2F; font-weight: bold\">*</span> T<span style=\"color: #A2F; font-weight: bold\">.</span>int64(<span style=\"color: #008000\">13</span>) <span style=\"color: #A2F; font-weight: bold\">+</span> v_ax3) <span style=\"color: #A2F; font-weight: bold\">//</span> T<span style=\"color: #A2F; font-weight: bold\">.</span>int64(<span style=\"color: #008000\">169</span>) <span style=\"color: #A2F; font-weight: bold\">+</span> v_ax1) <span style=\"color: #A2F; font-weight: bold\">%</span> T<span style=\"color: #A2F; font-weight: bold\">.</span>int64(<span style=\"color: #008000\">1024</span>), (v_ax2 <span style=\"color: #A2F; font-weight: bold\">*</span> T<span style=\"color: #A2F; font-weight: bold\">.</span>int64(<span style=\"color: #008000\">13</span>) <span style=\"color: #A2F; font-weight: bold\">+</span> v_ax3) <span style=\"color: #A2F; font-weight: bold\">%</span> T<span style=\"color: #A2F; font-weight: bold\">.</span>int64(<span style=\"color: #008000\">169</span>)]\n",
       "\n",
       "    <span style=\"color: #A2F\">@T</span><span style=\"color: #A2F; font-weight: bold\">.</span>prim_func(private<span style=\"color: #A2F; font-weight: bold\">=</span><span style=\"color: #008000; font-weight: bold\">True</span>)\n",
       "    <span style=\"color: #008000; font-weight: bold\">def</span> <span style=\"color: #00F\">transpose</span>(W: T<span style=\"color: #A2F; font-weight: bold\">.</span>Buffer((T<span style=\"color: #A2F; font-weight: bold\">.</span>int64(<span style=\"color: #008000\">1024</span>), T<span style=\"color: #A2F; font-weight: bold\">.</span>int64(<span style=\"color: #008000\">1024</span>), T<span style=\"color: #A2F; font-weight: bold\">.</span>int64(<span style=\"color: #008000\">3</span>), T<span style=\"color: #A2F; font-weight: bold\">.</span>int64(<span style=\"color: #008000\">3</span>)), <span style=\"color: #BA2121\">&quot;float32&quot;</span>), T_transpose: T<span style=\"color: #A2F; font-weight: bold\">.</span>Buffer((T<span style=\"color: #A2F; font-weight: bold\">.</span>int64(<span style=\"color: #008000\">1024</span>), T<span style=\"color: #A2F; font-weight: bold\">.</span>int64(<span style=\"color: #008000\">3</span>), T<span style=\"color: #A2F; font-weight: bold\">.</span>int64(<span style=\"color: #008000\">3</span>), T<span style=\"color: #A2F; font-weight: bold\">.</span>int64(<span style=\"color: #008000\">1024</span>)), <span style=\"color: #BA2121\">&quot;float32&quot;</span>)):\n",
       "        T<span style=\"color: #A2F; font-weight: bold\">.</span>func_attr({<span style=\"color: #BA2121\">&quot;tir.noalias&quot;</span>: T<span style=\"color: #A2F; font-weight: bold\">.</span>bool(<span style=\"color: #008000; font-weight: bold\">True</span>)})\n",
       "        <span style=\"color: #007979; font-style: italic\"># with T.block(&quot;root&quot;):</span>\n",
       "        <span style=\"color: #008000; font-weight: bold\">for</span> ax0, ax1, ax2, ax3 <span style=\"color: #008000; font-weight: bold\">in</span> T<span style=\"color: #A2F; font-weight: bold\">.</span>grid(T<span style=\"color: #A2F; font-weight: bold\">.</span>int64(<span style=\"color: #008000\">1024</span>), T<span style=\"color: #A2F; font-weight: bold\">.</span>int64(<span style=\"color: #008000\">3</span>), T<span style=\"color: #A2F; font-weight: bold\">.</span>int64(<span style=\"color: #008000\">3</span>), T<span style=\"color: #A2F; font-weight: bold\">.</span>int64(<span style=\"color: #008000\">1024</span>)):\n",
       "            <span style=\"color: #008000; font-weight: bold\">with</span> T<span style=\"color: #A2F; font-weight: bold\">.</span>block(<span style=\"color: #BA2121\">&quot;T_transpose&quot;</span>):\n",
       "                v_ax0, v_ax1, v_ax2, v_ax3 <span style=\"color: #A2F; font-weight: bold\">=</span> T<span style=\"color: #A2F; font-weight: bold\">.</span>axis<span style=\"color: #A2F; font-weight: bold\">.</span>remap(<span style=\"color: #BA2121\">&quot;SSSS&quot;</span>, [ax0, ax1, ax2, ax3])\n",
       "                T<span style=\"color: #A2F; font-weight: bold\">.</span>reads(W[v_ax0, v_ax3, v_ax1, v_ax2])\n",
       "                T<span style=\"color: #A2F; font-weight: bold\">.</span>writes(T_transpose[v_ax0, v_ax1, v_ax2, v_ax3])\n",
       "                T_transpose[v_ax0, v_ax1, v_ax2, v_ax3] <span style=\"color: #A2F; font-weight: bold\">=</span> W[v_ax0, v_ax3, v_ax1, v_ax2]\n",
       "\n",
       "    <span style=\"color: #A2F\">@R</span><span style=\"color: #A2F; font-weight: bold\">.</span>function\n",
       "    <span style=\"color: #008000; font-weight: bold\">def</span> <span style=\"color: #00F\">forward</span>(X: R<span style=\"color: #A2F; font-weight: bold\">.</span>Tensor((<span style=\"color: #008000\">1</span>, <span style=\"color: #008000\">1024</span>, <span style=\"color: #008000\">15</span>, <span style=\"color: #008000\">15</span>), dtype<span style=\"color: #A2F; font-weight: bold\">=</span><span style=\"color: #BA2121\">&quot;float32&quot;</span>), W: R<span style=\"color: #A2F; font-weight: bold\">.</span>Tensor((<span style=\"color: #008000\">1024</span>, <span style=\"color: #008000\">1024</span>, <span style=\"color: #008000\">3</span>, <span style=\"color: #008000\">3</span>), dtype<span style=\"color: #A2F; font-weight: bold\">=</span><span style=\"color: #BA2121\">&quot;float32&quot;</span>)) <span style=\"color: #A2F; font-weight: bold\">-&gt;</span> R<span style=\"color: #A2F; font-weight: bold\">.</span>Tensor((<span style=\"color: #008000\">1</span>, <span style=\"color: #008000\">1024</span>, <span style=\"color: #008000\">13</span>, <span style=\"color: #008000\">13</span>), dtype<span style=\"color: #A2F; font-weight: bold\">=</span><span style=\"color: #BA2121\">&quot;float32&quot;</span>):\n",
       "        cls <span style=\"color: #A2F; font-weight: bold\">=</span> Module\n",
       "        <span style=\"color: #008000; font-weight: bold\">with</span> R<span style=\"color: #A2F; font-weight: bold\">.</span>dataflow():\n",
       "            transposed_w <span style=\"color: #A2F; font-weight: bold\">=</span> R<span style=\"color: #A2F; font-weight: bold\">.</span>call_tir(cls<span style=\"color: #A2F; font-weight: bold\">.</span>transpose, (W,), out_sinfo<span style=\"color: #A2F; font-weight: bold\">=</span>R<span style=\"color: #A2F; font-weight: bold\">.</span>Tensor((<span style=\"color: #008000\">1024</span>, <span style=\"color: #008000\">3</span>, <span style=\"color: #008000\">3</span>, <span style=\"color: #008000\">1024</span>), dtype<span style=\"color: #A2F; font-weight: bold\">=</span><span style=\"color: #BA2121\">&quot;float32&quot;</span>))\n",
       "            good_w <span style=\"color: #A2F; font-weight: bold\">=</span> R<span style=\"color: #A2F; font-weight: bold\">.</span>call_tir(cls<span style=\"color: #A2F; font-weight: bold\">.</span>reshape, (transposed_w,), out_sinfo<span style=\"color: #A2F; font-weight: bold\">=</span>R<span style=\"color: #A2F; font-weight: bold\">.</span>Tensor((<span style=\"color: #008000\">1024</span>, <span style=\"color: #008000\">9216</span>), dtype<span style=\"color: #A2F; font-weight: bold\">=</span><span style=\"color: #BA2121\">&quot;float32&quot;</span>))\n",
       "            lv0 <span style=\"color: #A2F; font-weight: bold\">=</span> R<span style=\"color: #A2F; font-weight: bold\">.</span>call_tir(cls<span style=\"color: #A2F; font-weight: bold\">.</span>im2col, (X,), out_sinfo<span style=\"color: #A2F; font-weight: bold\">=</span>R<span style=\"color: #A2F; font-weight: bold\">.</span>Tensor((<span style=\"color: #008000\">9216</span>, <span style=\"color: #008000\">169</span>), dtype<span style=\"color: #A2F; font-weight: bold\">=</span><span style=\"color: #BA2121\">&quot;float32&quot;</span>))\n",
       "            lv1 <span style=\"color: #A2F; font-weight: bold\">=</span> R<span style=\"color: #A2F; font-weight: bold\">.</span>call_tir(cls<span style=\"color: #A2F; font-weight: bold\">.</span>matmul, (good_w, lv0), out_sinfo<span style=\"color: #A2F; font-weight: bold\">=</span>R<span style=\"color: #A2F; font-weight: bold\">.</span>Tensor((<span style=\"color: #008000\">1024</span>, <span style=\"color: #008000\">169</span>), dtype<span style=\"color: #A2F; font-weight: bold\">=</span><span style=\"color: #BA2121\">&quot;float32&quot;</span>))\n",
       "            lv2 <span style=\"color: #A2F; font-weight: bold\">=</span> R<span style=\"color: #A2F; font-weight: bold\">.</span>call_tir(cls<span style=\"color: #A2F; font-weight: bold\">.</span>reshape1, (lv1,), out_sinfo<span style=\"color: #A2F; font-weight: bold\">=</span>R<span style=\"color: #A2F; font-weight: bold\">.</span>Tensor((<span style=\"color: #008000\">1</span>, <span style=\"color: #008000\">1024</span>, <span style=\"color: #008000\">13</span>, <span style=\"color: #008000\">13</span>), dtype<span style=\"color: #A2F; font-weight: bold\">=</span><span style=\"color: #BA2121\">&quot;float32&quot;</span>))\n",
       "            R<span style=\"color: #A2F; font-weight: bold\">.</span>output(lv2)\n",
       "        <span style=\"color: #008000; font-weight: bold\">return</span> lv2\n",
       "</pre></div>\n"
      ],
      "text/plain": [
       "<IPython.core.display.HTML object>"
      ]
     },
     "metadata": {},
     "output_type": "display_data"
    }
   ],
   "source": [
    "@tvm.script.ir_module\n",
    "class MyConv:\n",
    "    @T.prim_func\n",
    "    def im2col(X: T.Buffer((1, 1024, 15, 15), \"float32\"),\n",
    "               Y: T.Buffer((9*1024, 13*13), \"float32\")):\n",
    "        for i,j in T.grid(9*1024, 13*13):\n",
    "            with T.block(\"Y\"):\n",
    "                vi, vj = T.axis.remap(\"SS\", (i,j))\n",
    "                n = vi // 9\n",
    "                ki = vj//13\n",
    "                kj = vj%13\n",
    "                di = (vi%9)//3\n",
    "                dj = vi%3\n",
    "                Y[vi, vj] = X[0,n, ki+di, kj+dj]\n",
    "\n",
    "\n",
    "    @R.function\n",
    "    def forward(X: R.Tensor((1, 1024, 15, 15), \"float32\"),\n",
    "                W: R.Tensor((1024, 1024, 3, 3), \"float32\")):\n",
    "        cls = MyConv\n",
    "        with R.dataflow():\n",
    "            # transposed_x = relax.op.permute_dims(X, [0,2,3,1])\n",
    "            transposed_w = relax.op.permute_dims(W, [0,2,3,1])\n",
    "            good_w = relax.op.reshape(transposed_w, (1024, 1024*9))\n",
    "            lv0 = R.call_tir(cls.im2col, (X, ), out_sinfo=R.Tensor((9*1024,13*13), dtype=\"float32\"))\n",
    "            lv1 = relax.op.matmul(good_w, lv0)\n",
    "            lv2 = relax.op.reshape(lv1, (1, 1024,13,13))\n",
    "            R.output(lv2)\n",
    "        return lv2\n",
    "    \n",
    "mod = relax.transform.LegalizeOps()(MyConv)\n",
    "mod.show()"
   ]
  },
  {
   "cell_type": "code",
   "execution_count": 3,
   "metadata": {},
   "outputs": [],
   "source": [
    "ex = relax.build(MyConv, target=\"llvm\")\n",
    "vm = relax.VirtualMachine(ex, tvm.cpu(), profile=True)"
   ]
  },
  {
   "cell_type": "code",
   "execution_count": 4,
   "metadata": {},
   "outputs": [],
   "source": [
    "x = np.random.rand(1,1024,15,15).astype(\"float32\")\n",
    "tvm_x = tvm.nd.array(x)\n",
    "w = np.random.rand(1024,1024,3,3).astype(\"float32\")\n",
    "tvm_w = tvm.nd.array(w)\n",
    "\n",
    "x_ = torch.Tensor(x)\n",
    "w_ = torch.Tensor(w)\n",
    "\n",
    "ref = torch.nn.functional.conv2d(x_, w_).numpy()\n",
    "\n",
    "res = vm[\"forward\"](tvm_x, tvm_w).numpy()\n",
    "\n",
    "np.testing.assert_allclose(res, ref, atol=1e-4, rtol=1)"
   ]
  },
  {
   "cell_type": "code",
   "execution_count": 5,
   "metadata": {},
   "outputs": [
    {
     "data": {
      "text/plain": [
       "Name                          Duration (us)  Percent  Device  Count                                              Argument Shapes  \n",
       "matmul                         5 810 714,64    99.72    cpu0      1  float32[1024, 9216], float32[9216, 169], float32[1024, 169]  \n",
       "transpose                         13 943,87     0.24    cpu0      1         float32[1024, 1024, 3, 3], float32[1024, 3, 3, 1024]  \n",
       "im2col                             1 818,15     0.03    cpu0      1                 float32[1, 1024, 15, 15], float32[9216, 169]  \n",
       "reshape1                              72,88     0.00    cpu0      1                 float32[1024, 169], float32[1, 1024, 13, 13]  \n",
       "vm.builtin.check_tensor_info           5,97     0.00    cpu0      1                                     float32[1, 1024, 15, 15]  \n",
       "vm.builtin.reshape                     5,77     0.00    cpu0      1                                    float32[1024, 3, 3, 1024]  \n",
       "vm.builtin.match_shape                 3,09     0.00    cpu0      1                                     float32[1, 1024, 15, 15]  \n",
       "vm.builtin.check_tensor_info           1,81     0.00    cpu0      1                                    float32[1024, 1024, 3, 3]  \n",
       "vm.builtin.match_shape                 1,65     0.00    cpu0      1                                    float32[1024, 1024, 3, 3]  \n",
       "----------                                                                                                                        \n",
       "Sum                            5 826 567,81   100.00              9                                                               \n",
       "Total                          5 826 794,08             cpu0      1                                                               \n",
       "\n",
       "Configuration\n",
       "-------------\n",
       "Number of threads: 2\n",
       "Executor: VM"
      ]
     },
     "execution_count": 5,
     "metadata": {},
     "output_type": "execute_result"
    }
   ],
   "source": [
    "evaluator = vm.profile(\"forward\",\n",
    "    tvm_x, tvm_w\n",
    ")\n",
    "evaluator"
   ]
  },
  {
   "cell_type": "code",
   "execution_count": 6,
   "metadata": {},
   "outputs": [
    {
     "data": {
      "text/plain": [
       "Name                          Duration (us)  Percent  Device  Count                                              Argument Shapes  \n",
       "matmul                           570 620,60    97.31    cpu0      1  float32[1024, 9216], float32[9216, 169], float32[1024, 169]  \n",
       "transpose                         13 097,18     2.23    cpu0      1         float32[1024, 1024, 3, 3], float32[1024, 3, 3, 1024]  \n",
       "im2col                             2 328,63     0.40    cpu0      1                 float32[1, 1024, 15, 15], float32[9216, 169]  \n",
       "reshape1                              77,67     0.01    cpu0      1                 float32[1024, 169], float32[1, 1024, 13, 13]  \n",
       "vm.builtin.reshape                     7,36     0.00    cpu0      1                                    float32[1024, 3, 3, 1024]  \n",
       "vm.builtin.check_tensor_info           3,54     0.00    cpu0      1                                     float32[1, 1024, 15, 15]  \n",
       "vm.builtin.match_shape                 3,28     0.00    cpu0      1                                     float32[1, 1024, 15, 15]  \n",
       "vm.builtin.match_shape                 1,15     0.00    cpu0      1                                    float32[1024, 1024, 3, 3]  \n",
       "vm.builtin.check_tensor_info           1,07     0.00    cpu0      1                                    float32[1024, 1024, 3, 3]  \n",
       "----------                                                                                                                        \n",
       "Sum                              586 140,49    99.96              9                                                               \n",
       "Total                            586 374,18             cpu0      1                                                               \n",
       "\n",
       "Configuration\n",
       "-------------\n",
       "Number of threads: 2\n",
       "Executor: VM"
      ]
     },
     "execution_count": 6,
     "metadata": {},
     "output_type": "execute_result"
    }
   ],
   "source": [
    "sch=tvm.tir.Schedule(mod)\n",
    "matmul = sch.get_block(\"matmul\", func_name=\"matmul\")\n",
    "i,j,k = sch.get_loops(matmul)\n",
    " \n",
    "#i0, i1 = sch.split(i, factors = [None, 8])\n",
    "#j0, j1 = sch.split(j, factors = [None, 8])\n",
    "#k0, k1 = sch.split(k, factors = [None, 8])\n",
    "\n",
    "sch.reorder(i,k,j)\n",
    "#sch.unroll(j)\n",
    "#sch.vectorize(j)\n",
    "\n",
    "#sch.mod.show()\n",
    "\n",
    "ex_ = relax.build(sch.mod, target=\"llvm -mcpu=core-avx2\")\n",
    "vm_ = relax.VirtualMachine(ex_, tvm.cpu(), profile=True)\n",
    "evaluator = vm_.profile(\"forward\",\n",
    "    tvm_x, tvm_w\n",
    ")\n",
    "\n",
    "evaluator"
   ]
  },
  {
   "cell_type": "code",
   "execution_count": null,
   "metadata": {},
   "outputs": [],
   "source": []
  }
 ],
 "metadata": {
  "kernelspec": {
   "display_name": "tvm-build-venv",
   "language": "python",
   "name": "python3"
  },
  "language_info": {
   "codemirror_mode": {
    "name": "ipython",
    "version": 3
   },
   "file_extension": ".py",
   "mimetype": "text/x-python",
   "name": "python",
   "nbconvert_exporter": "python",
   "pygments_lexer": "ipython3",
   "version": "3.11.11"
  }
 },
 "nbformat": 4,
 "nbformat_minor": 2
}
